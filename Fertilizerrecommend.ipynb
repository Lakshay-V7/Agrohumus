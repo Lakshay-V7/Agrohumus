{
 "cells": [
  {
   "cell_type": "code",
   "execution_count": 1,
   "id": "a7c5cdc4-9d47-447d-9452-e55a1e9e6d3c",
   "metadata": {},
   "outputs": [],
   "source": [
    "import numpy as np\n",
    "import pandas as pd"
   ]
  },
  {
   "cell_type": "code",
   "execution_count": 2,
   "id": "534a75fd-4c10-47a4-be34-b0f83e4e329c",
   "metadata": {},
   "outputs": [
    {
     "data": {
      "text/html": [
       "<div>\n",
       "<style scoped>\n",
       "    .dataframe tbody tr th:only-of-type {\n",
       "        vertical-align: middle;\n",
       "    }\n",
       "\n",
       "    .dataframe tbody tr th {\n",
       "        vertical-align: top;\n",
       "    }\n",
       "\n",
       "    .dataframe thead th {\n",
       "        text-align: right;\n",
       "    }\n",
       "</style>\n",
       "<table border=\"1\" class=\"dataframe\">\n",
       "  <thead>\n",
       "    <tr style=\"text-align: right;\">\n",
       "      <th></th>\n",
       "      <th>Temparature</th>\n",
       "      <th>Humidity</th>\n",
       "      <th>Moisture</th>\n",
       "      <th>Soil Type</th>\n",
       "      <th>Crop Type</th>\n",
       "      <th>Nitrogen</th>\n",
       "      <th>Potassium</th>\n",
       "      <th>Phosphorous</th>\n",
       "      <th>Fertilizer Name</th>\n",
       "    </tr>\n",
       "  </thead>\n",
       "  <tbody>\n",
       "    <tr>\n",
       "      <th>0</th>\n",
       "      <td>26</td>\n",
       "      <td>52</td>\n",
       "      <td>38</td>\n",
       "      <td>Sandy</td>\n",
       "      <td>Maize</td>\n",
       "      <td>37</td>\n",
       "      <td>0</td>\n",
       "      <td>0</td>\n",
       "      <td>Urea</td>\n",
       "    </tr>\n",
       "    <tr>\n",
       "      <th>1</th>\n",
       "      <td>29</td>\n",
       "      <td>52</td>\n",
       "      <td>45</td>\n",
       "      <td>Loamy</td>\n",
       "      <td>Sugarcane</td>\n",
       "      <td>12</td>\n",
       "      <td>0</td>\n",
       "      <td>36</td>\n",
       "      <td>DAP</td>\n",
       "    </tr>\n",
       "    <tr>\n",
       "      <th>2</th>\n",
       "      <td>34</td>\n",
       "      <td>65</td>\n",
       "      <td>62</td>\n",
       "      <td>Black</td>\n",
       "      <td>Cotton</td>\n",
       "      <td>7</td>\n",
       "      <td>9</td>\n",
       "      <td>30</td>\n",
       "      <td>14-35-14</td>\n",
       "    </tr>\n",
       "    <tr>\n",
       "      <th>3</th>\n",
       "      <td>32</td>\n",
       "      <td>62</td>\n",
       "      <td>34</td>\n",
       "      <td>Red</td>\n",
       "      <td>Tobacco</td>\n",
       "      <td>22</td>\n",
       "      <td>0</td>\n",
       "      <td>20</td>\n",
       "      <td>28-28</td>\n",
       "    </tr>\n",
       "    <tr>\n",
       "      <th>4</th>\n",
       "      <td>28</td>\n",
       "      <td>54</td>\n",
       "      <td>46</td>\n",
       "      <td>Clayey</td>\n",
       "      <td>Paddy</td>\n",
       "      <td>35</td>\n",
       "      <td>0</td>\n",
       "      <td>0</td>\n",
       "      <td>Urea</td>\n",
       "    </tr>\n",
       "  </tbody>\n",
       "</table>\n",
       "</div>"
      ],
      "text/plain": [
       "   Temparature  Humidity   Moisture Soil Type  Crop Type  Nitrogen  Potassium  \\\n",
       "0           26         52        38     Sandy      Maize        37          0   \n",
       "1           29         52        45     Loamy  Sugarcane        12          0   \n",
       "2           34         65        62     Black     Cotton         7          9   \n",
       "3           32         62        34       Red    Tobacco        22          0   \n",
       "4           28         54        46    Clayey      Paddy        35          0   \n",
       "\n",
       "   Phosphorous Fertilizer Name  \n",
       "0            0            Urea  \n",
       "1           36             DAP  \n",
       "2           30        14-35-14  \n",
       "3           20           28-28  \n",
       "4            0            Urea  "
      ]
     },
     "execution_count": 2,
     "metadata": {},
     "output_type": "execute_result"
    }
   ],
   "source": [
    "fertilizer=pd.read_csv(\"Fertilizer Prediction.csv\")\n",
    "fertilizer.head()\n"
   ]
  },
  {
   "cell_type": "code",
   "execution_count": 3,
   "id": "6d8b0ff4-7414-42fc-bd33-7eb6c6f4d5e6",
   "metadata": {},
   "outputs": [
    {
     "data": {
      "text/plain": [
       "(99, 9)"
      ]
     },
     "execution_count": 3,
     "metadata": {},
     "output_type": "execute_result"
    }
   ],
   "source": [
    "fertilizer.shape\n"
   ]
  },
  {
   "cell_type": "code",
   "execution_count": 4,
   "id": "95b222e6-1fdb-449a-ab89-ea7a1bbaffe3",
   "metadata": {},
   "outputs": [
    {
     "data": {
      "text/plain": [
       "<bound method DataFrame.info of     Temparature  Humidity   Moisture Soil Type  Crop Type  Nitrogen  \\\n",
       "0            26         52        38     Sandy      Maize        37   \n",
       "1            29         52        45     Loamy  Sugarcane        12   \n",
       "2            34         65        62     Black     Cotton         7   \n",
       "3            32         62        34       Red    Tobacco        22   \n",
       "4            28         54        46    Clayey      Paddy        35   \n",
       "..          ...        ...       ...       ...        ...       ...   \n",
       "94           25         50        32    Clayey     Pulses        24   \n",
       "95           30         60        27       Red    Tobacco         4   \n",
       "96           38         72        51     Loamy      Wheat        39   \n",
       "97           36         60        43     Sandy    Millets        15   \n",
       "98           29         58        57     Black  Sugarcane        12   \n",
       "\n",
       "    Potassium  Phosphorous Fertilizer Name  \n",
       "0           0            0            Urea  \n",
       "1           0           36             DAP  \n",
       "2           9           30        14-35-14  \n",
       "3           0           20           28-28  \n",
       "4           0            0            Urea  \n",
       "..        ...          ...             ...  \n",
       "94          0           19           28-28  \n",
       "95         17           17        10-26-26  \n",
       "96          0            0            Urea  \n",
       "97          0           41             DAP  \n",
       "98          0           10           20-20  \n",
       "\n",
       "[99 rows x 9 columns]>"
      ]
     },
     "execution_count": 4,
     "metadata": {},
     "output_type": "execute_result"
    }
   ],
   "source": [
    "fertilizer.info"
   ]
  },
  {
   "cell_type": "code",
   "execution_count": 5,
   "id": "f92c8b9c-3063-4263-b9d0-31d939377ff1",
   "metadata": {},
   "outputs": [
    {
     "data": {
      "text/plain": [
       "Temparature        0\n",
       "Humidity           0\n",
       "Moisture           0\n",
       "Soil Type          0\n",
       "Crop Type          0\n",
       "Nitrogen           0\n",
       "Potassium          0\n",
       "Phosphorous        0\n",
       "Fertilizer Name    0\n",
       "dtype: int64"
      ]
     },
     "execution_count": 5,
     "metadata": {},
     "output_type": "execute_result"
    }
   ],
   "source": [
    "fertilizer.isnull().sum()"
   ]
  },
  {
   "cell_type": "code",
   "execution_count": 6,
   "id": "1e1b74d8-8c02-465f-a398-c1a2f0bb80ed",
   "metadata": {},
   "outputs": [
    {
     "data": {
      "text/plain": [
       "0"
      ]
     },
     "execution_count": 6,
     "metadata": {},
     "output_type": "execute_result"
    }
   ],
   "source": [
    "fertilizer.duplicated().sum()"
   ]
  },
  {
   "cell_type": "code",
   "execution_count": 7,
   "id": "a516d861-d342-450e-bb7a-d5b5357d752c",
   "metadata": {},
   "outputs": [
    {
     "data": {
      "text/html": [
       "<div>\n",
       "<style scoped>\n",
       "    .dataframe tbody tr th:only-of-type {\n",
       "        vertical-align: middle;\n",
       "    }\n",
       "\n",
       "    .dataframe tbody tr th {\n",
       "        vertical-align: top;\n",
       "    }\n",
       "\n",
       "    .dataframe thead th {\n",
       "        text-align: right;\n",
       "    }\n",
       "</style>\n",
       "<table border=\"1\" class=\"dataframe\">\n",
       "  <thead>\n",
       "    <tr style=\"text-align: right;\">\n",
       "      <th></th>\n",
       "      <th>Temparature</th>\n",
       "      <th>Humidity</th>\n",
       "      <th>Moisture</th>\n",
       "      <th>Nitrogen</th>\n",
       "      <th>Potassium</th>\n",
       "      <th>Phosphorous</th>\n",
       "    </tr>\n",
       "  </thead>\n",
       "  <tbody>\n",
       "    <tr>\n",
       "      <th>count</th>\n",
       "      <td>99.000000</td>\n",
       "      <td>99.000000</td>\n",
       "      <td>99.000000</td>\n",
       "      <td>99.000000</td>\n",
       "      <td>99.000000</td>\n",
       "      <td>99.000000</td>\n",
       "    </tr>\n",
       "    <tr>\n",
       "      <th>mean</th>\n",
       "      <td>30.282828</td>\n",
       "      <td>59.151515</td>\n",
       "      <td>43.181818</td>\n",
       "      <td>18.909091</td>\n",
       "      <td>3.383838</td>\n",
       "      <td>18.606061</td>\n",
       "    </tr>\n",
       "    <tr>\n",
       "      <th>std</th>\n",
       "      <td>3.502304</td>\n",
       "      <td>5.840331</td>\n",
       "      <td>11.271568</td>\n",
       "      <td>11.599693</td>\n",
       "      <td>5.814667</td>\n",
       "      <td>13.476978</td>\n",
       "    </tr>\n",
       "    <tr>\n",
       "      <th>min</th>\n",
       "      <td>25.000000</td>\n",
       "      <td>50.000000</td>\n",
       "      <td>25.000000</td>\n",
       "      <td>4.000000</td>\n",
       "      <td>0.000000</td>\n",
       "      <td>0.000000</td>\n",
       "    </tr>\n",
       "    <tr>\n",
       "      <th>25%</th>\n",
       "      <td>28.000000</td>\n",
       "      <td>54.000000</td>\n",
       "      <td>34.000000</td>\n",
       "      <td>10.000000</td>\n",
       "      <td>0.000000</td>\n",
       "      <td>9.000000</td>\n",
       "    </tr>\n",
       "    <tr>\n",
       "      <th>50%</th>\n",
       "      <td>30.000000</td>\n",
       "      <td>60.000000</td>\n",
       "      <td>41.000000</td>\n",
       "      <td>13.000000</td>\n",
       "      <td>0.000000</td>\n",
       "      <td>19.000000</td>\n",
       "    </tr>\n",
       "    <tr>\n",
       "      <th>75%</th>\n",
       "      <td>33.000000</td>\n",
       "      <td>64.000000</td>\n",
       "      <td>50.500000</td>\n",
       "      <td>24.000000</td>\n",
       "      <td>7.500000</td>\n",
       "      <td>30.000000</td>\n",
       "    </tr>\n",
       "    <tr>\n",
       "      <th>max</th>\n",
       "      <td>38.000000</td>\n",
       "      <td>72.000000</td>\n",
       "      <td>65.000000</td>\n",
       "      <td>42.000000</td>\n",
       "      <td>19.000000</td>\n",
       "      <td>42.000000</td>\n",
       "    </tr>\n",
       "  </tbody>\n",
       "</table>\n",
       "</div>"
      ],
      "text/plain": [
       "       Temparature  Humidity    Moisture   Nitrogen  Potassium  Phosphorous\n",
       "count    99.000000  99.000000  99.000000  99.000000  99.000000    99.000000\n",
       "mean     30.282828  59.151515  43.181818  18.909091   3.383838    18.606061\n",
       "std       3.502304   5.840331  11.271568  11.599693   5.814667    13.476978\n",
       "min      25.000000  50.000000  25.000000   4.000000   0.000000     0.000000\n",
       "25%      28.000000  54.000000  34.000000  10.000000   0.000000     9.000000\n",
       "50%      30.000000  60.000000  41.000000  13.000000   0.000000    19.000000\n",
       "75%      33.000000  64.000000  50.500000  24.000000   7.500000    30.000000\n",
       "max      38.000000  72.000000  65.000000  42.000000  19.000000    42.000000"
      ]
     },
     "execution_count": 7,
     "metadata": {},
     "output_type": "execute_result"
    }
   ],
   "source": [
    "fertilizer.describe()"
   ]
  },
  {
   "cell_type": "code",
   "execution_count": 8,
   "id": "35b33258-ee83-4eeb-9a52-984140d1c490",
   "metadata": {
    "scrolled": true
   },
   "outputs": [],
   "source": [
    "#exploring data\n",
    "numeric_fertilizer = fertilizer.select_dtypes(include=['int64', 'float64'])\n",
    "corr = numeric_fertilizer.corr()\n"
   ]
  },
  {
   "cell_type": "code",
   "execution_count": 9,
   "id": "1ad0d575-0c82-4113-bffe-d9005718a339",
   "metadata": {},
   "outputs": [
    {
     "data": {
      "text/plain": [
       "<Axes: >"
      ]
     },
     "execution_count": 9,
     "metadata": {},
     "output_type": "execute_result"
    },
    {
     "data": {
      "image/png": "[encoded data removed]",
      "text/plain": [
       "<Figure size 640x480 with 2 Axes>"
      ]
     },
     "metadata": {},
     "output_type": "display_data"
    }
   ],
   "source": [
    "#analysis\n",
    "import seaborn as sns\n",
    "sns.heatmap(corr, annot=True,cbar=True,cmap='coolwarm')"
   ]
  },
  {
   "cell_type": "code",
   "execution_count": 10,
   "id": "65663667-a603-4890-8c61-3927ccb30fc7",
   "metadata": {},
   "outputs": [
    {
     "data": {
      "text/plain": [
       "Fertilizer Name\n",
       "Urea        22\n",
       "DAP         18\n",
       "28-28       17\n",
       "14-35-14    14\n",
       "20-20       14\n",
       "17-17-17     7\n",
       "10-26-26     7\n",
       "Name: count, dtype: int64"
      ]
     },
     "execution_count": 10,
     "metadata": {},
     "output_type": "execute_result"
    }
   ],
   "source": [
    "fertilizer['Fertilizer Name'].value_counts()"
   ]
  },
  {
   "cell_type": "code",
   "execution_count": 11,
   "id": "ce206db3-7aac-4eee-b3e6-4fcbaec9bcd5",
   "metadata": {},
   "outputs": [
    {
     "name": "stderr",
     "output_type": "stream",
     "text": [
      "C:\\Users\\RAJ MOHNANI\\AppData\\Local\\Temp\\ipykernel_16152\\3167043831.py:2: UserWarning: \n",
      "\n",
      "`distplot` is a deprecated function and will be removed in seaborn v0.14.0.\n",
      "\n",
      "Please adapt your code to use either `displot` (a figure-level function with\n",
      "similar flexibility) or `histplot` (an axes-level function for histograms).\n",
      "\n",
      "For a guide to updating your code to use the new functions, please see\n",
      "https://gist.github.com/mwaskom/de44147ed2974457ad6372750bbe5751\n",
      "\n",
      "  sns.distplot(fertilizer['Nitrogen'])\n"
     ]
    },
    {
     "data": {
      "image/png": "[encoded data removed]",
      "text/plain": [
       "<Figure size 640x480 with 1 Axes>"
      ]
     },
     "metadata": {},
     "output_type": "display_data"
    }
   ],
   "source": [
    "import matplotlib.pyplot as plt\n",
    "sns.distplot(fertilizer['Nitrogen'])\n",
    "plt.show()"
   ]
  },
  {
   "cell_type": "code",
   "execution_count": 12,
   "id": "28ddab2d-2fa9-40e2-9055-2c3cf1abeb40",
   "metadata": {},
   "outputs": [],
   "source": [
    "#ENCODING\n",
    "fertilizer_dict={\n",
    "    'Urea':1,\n",
    "    'DAP':2,\n",
    "    '28-28':3,    \n",
    "    '14-35-14':4,\n",
    "    '20-20':5,\n",
    "    '17-17-17':6,\n",
    "    '10-26-26':7\n",
    "}\n",
    "fertilizer['Fertilizer_Num']=fertilizer['Fertilizer Name'].map(fertilizer_dict)"
   ]
  },
  {
   "cell_type": "code",
   "execution_count": 13,
   "id": "8851b34f-aa11-43ed-b982-af67c5fb6960",
   "metadata": {},
   "outputs": [
    {
     "data": {
      "text/plain": [
       "Fertilizer_Num\n",
       "1    22\n",
       "2    18\n",
       "3    17\n",
       "4    14\n",
       "5    14\n",
       "6     7\n",
       "7     7\n",
       "Name: count, dtype: int64"
      ]
     },
     "execution_count": 13,
     "metadata": {},
     "output_type": "execute_result"
    }
   ],
   "source": [
    "fertilizer['Fertilizer_Num'].value_counts()"
   ]
  },
  {
   "cell_type": "code",
   "execution_count": 14,
   "id": "4e6f5e95-1227-4f5f-a9a1-3c4955de86d6",
   "metadata": {},
   "outputs": [
    {
     "data": {
      "text/html": [
       "<div>\n",
       "<style scoped>\n",
       "    .dataframe tbody tr th:only-of-type {\n",
       "        vertical-align: middle;\n",
       "    }\n",
       "\n",
       "    .dataframe tbody tr th {\n",
       "        vertical-align: top;\n",
       "    }\n",
       "\n",
       "    .dataframe thead th {\n",
       "        text-align: right;\n",
       "    }\n",
       "</style>\n",
       "<table border=\"1\" class=\"dataframe\">\n",
       "  <thead>\n",
       "    <tr style=\"text-align: right;\">\n",
       "      <th></th>\n",
       "      <th>Temparature</th>\n",
       "      <th>Humidity</th>\n",
       "      <th>Moisture</th>\n",
       "      <th>Soil Type</th>\n",
       "      <th>Crop Type</th>\n",
       "      <th>Nitrogen</th>\n",
       "      <th>Potassium</th>\n",
       "      <th>Phosphorous</th>\n",
       "      <th>Fertilizer_Num</th>\n",
       "    </tr>\n",
       "  </thead>\n",
       "  <tbody>\n",
       "    <tr>\n",
       "      <th>0</th>\n",
       "      <td>26</td>\n",
       "      <td>52</td>\n",
       "      <td>38</td>\n",
       "      <td>Sandy</td>\n",
       "      <td>Maize</td>\n",
       "      <td>37</td>\n",
       "      <td>0</td>\n",
       "      <td>0</td>\n",
       "      <td>1</td>\n",
       "    </tr>\n",
       "    <tr>\n",
       "      <th>1</th>\n",
       "      <td>29</td>\n",
       "      <td>52</td>\n",
       "      <td>45</td>\n",
       "      <td>Loamy</td>\n",
       "      <td>Sugarcane</td>\n",
       "      <td>12</td>\n",
       "      <td>0</td>\n",
       "      <td>36</td>\n",
       "      <td>2</td>\n",
       "    </tr>\n",
       "    <tr>\n",
       "      <th>2</th>\n",
       "      <td>34</td>\n",
       "      <td>65</td>\n",
       "      <td>62</td>\n",
       "      <td>Black</td>\n",
       "      <td>Cotton</td>\n",
       "      <td>7</td>\n",
       "      <td>9</td>\n",
       "      <td>30</td>\n",
       "      <td>4</td>\n",
       "    </tr>\n",
       "    <tr>\n",
       "      <th>3</th>\n",
       "      <td>32</td>\n",
       "      <td>62</td>\n",
       "      <td>34</td>\n",
       "      <td>Red</td>\n",
       "      <td>Tobacco</td>\n",
       "      <td>22</td>\n",
       "      <td>0</td>\n",
       "      <td>20</td>\n",
       "      <td>3</td>\n",
       "    </tr>\n",
       "    <tr>\n",
       "      <th>4</th>\n",
       "      <td>28</td>\n",
       "      <td>54</td>\n",
       "      <td>46</td>\n",
       "      <td>Clayey</td>\n",
       "      <td>Paddy</td>\n",
       "      <td>35</td>\n",
       "      <td>0</td>\n",
       "      <td>0</td>\n",
       "      <td>1</td>\n",
       "    </tr>\n",
       "  </tbody>\n",
       "</table>\n",
       "</div>"
      ],
      "text/plain": [
       "   Temparature  Humidity   Moisture Soil Type  Crop Type  Nitrogen  Potassium  \\\n",
       "0           26         52        38     Sandy      Maize        37          0   \n",
       "1           29         52        45     Loamy  Sugarcane        12          0   \n",
       "2           34         65        62     Black     Cotton         7          9   \n",
       "3           32         62        34       Red    Tobacco        22          0   \n",
       "4           28         54        46    Clayey      Paddy        35          0   \n",
       "\n",
       "   Phosphorous  Fertilizer_Num  \n",
       "0            0               1  \n",
       "1           36               2  \n",
       "2           30               4  \n",
       "3           20               3  \n",
       "4            0               1  "
      ]
     },
     "execution_count": 14,
     "metadata": {},
     "output_type": "execute_result"
    }
   ],
   "source": [
    "fertilizer.drop('Fertilizer Name',axis=1,inplace=True)\n",
    "fertilizer.head()"
   ]
  },
  {
   "cell_type": "code",
   "execution_count": 15,
   "id": "318d54a0-b827-4da6-95c9-167d4f4d9df7",
   "metadata": {},
   "outputs": [],
   "source": [
    "#Training test Split\n",
    "\n",
    "x=fertilizer.drop('Fertilizer_Num',axis=1)\n",
    "y=fertilizer['Fertilizer_Num']"
   ]
  },
  {
   "cell_type": "code",
   "execution_count": 16,
   "id": "4bf15f10-548d-46a6-b5ef-4df9709ae199",
   "metadata": {},
   "outputs": [
    {
     "data": {
      "text/plain": [
       "(99, 8)"
      ]
     },
     "execution_count": 16,
     "metadata": {},
     "output_type": "execute_result"
    }
   ],
   "source": [
    "x.shape"
   ]
  },
  {
   "cell_type": "code",
   "execution_count": 17,
   "id": "2ca6f7a0-3e1f-4bff-8c9e-adf7a22a9f7d",
   "metadata": {},
   "outputs": [
    {
     "data": {
      "text/plain": [
       "(99,)"
      ]
     },
     "execution_count": 17,
     "metadata": {},
     "output_type": "execute_result"
    }
   ],
   "source": [
    "y.shape\n"
   ]
  },
  {
   "cell_type": "code",
   "execution_count": 18,
   "id": "477babc2-06a0-4e9e-8b04-d5fa2d9f4b58",
   "metadata": {},
   "outputs": [],
   "source": [
    "from sklearn.model_selection import train_test_split"
   ]
  },
  {
   "cell_type": "code",
   "execution_count": 19,
   "id": "fe5b606f-6de9-4b5a-813d-9a67f692cc9f",
   "metadata": {},
   "outputs": [],
   "source": [
    "x_train,x_test,y_train,y_test = train_test_split(x,y,test_size=0.2,random_state=42)"
   ]
  },
  {
   "cell_type": "code",
   "execution_count": 20,
   "id": "2a99b850-7e65-4bd1-a3e4-5180b878ecea",
   "metadata": {},
   "outputs": [
    {
     "data": {
      "text/plain": [
       "(79, 8)"
      ]
     },
     "execution_count": 20,
     "metadata": {},
     "output_type": "execute_result"
    }
   ],
   "source": [
    "x_train.shape"
   ]
  },
  {
   "cell_type": "code",
   "execution_count": 21,
   "id": "6aa5e39a-e347-48c6-9a41-8ba086ef9d7c",
   "metadata": {},
   "outputs": [
    {
     "data": {
      "text/plain": [
       "(20, 8)"
      ]
     },
     "execution_count": 21,
     "metadata": {},
     "output_type": "execute_result"
    }
   ],
   "source": [
    "x_test.shape"
   ]
  },
  {
   "cell_type": "code",
   "execution_count": 22,
   "id": "9f931c96-1b3d-4b20-89f6-45d8c3690384",
   "metadata": {},
   "outputs": [],
   "source": [
    "#scale the feature using MinMax Scaler\n",
    "from sklearn.preprocessing import MinMaxScaler\n",
    "ms=MinMaxScaler()\n",
    "\n",
    "numeric_x_train = x_train.select_dtypes(include=['int64', 'float64'])\n",
    "ms = MinMaxScaler()\n",
    "ms.fit(numeric_x_train)\n",
    "numeric_x_train_scaled = ms.transform(numeric_x_train)\n",
    "\n"
   ]
  },
  {
   "cell_type": "code",
   "execution_count": 23,
   "id": "80acf562-dc70-4656-9a22-4891da8ffb18",
   "metadata": {},
   "outputs": [
    {
     "data": {
      "text/html": [
       "<div>\n",
       "<style scoped>\n",
       "    .dataframe tbody tr th:only-of-type {\n",
       "        vertical-align: middle;\n",
       "    }\n",
       "\n",
       "    .dataframe tbody tr th {\n",
       "        vertical-align: top;\n",
       "    }\n",
       "\n",
       "    .dataframe thead th {\n",
       "        text-align: right;\n",
       "    }\n",
       "</style>\n",
       "<table border=\"1\" class=\"dataframe\">\n",
       "  <thead>\n",
       "    <tr style=\"text-align: right;\">\n",
       "      <th></th>\n",
       "      <th>Temparature</th>\n",
       "      <th>Humidity</th>\n",
       "      <th>Moisture</th>\n",
       "      <th>Soil Type</th>\n",
       "      <th>Crop Type</th>\n",
       "      <th>Nitrogen</th>\n",
       "      <th>Potassium</th>\n",
       "      <th>Phosphorous</th>\n",
       "    </tr>\n",
       "  </thead>\n",
       "  <tbody>\n",
       "    <tr>\n",
       "      <th>49</th>\n",
       "      <td>33</td>\n",
       "      <td>64</td>\n",
       "      <td>51</td>\n",
       "      <td>Sandy</td>\n",
       "      <td>Maize</td>\n",
       "      <td>5</td>\n",
       "      <td>9</td>\n",
       "      <td>29</td>\n",
       "    </tr>\n",
       "    <tr>\n",
       "      <th>70</th>\n",
       "      <td>26</td>\n",
       "      <td>52</td>\n",
       "      <td>39</td>\n",
       "      <td>Clayey</td>\n",
       "      <td>Pulses</td>\n",
       "      <td>21</td>\n",
       "      <td>0</td>\n",
       "      <td>23</td>\n",
       "    </tr>\n",
       "    <tr>\n",
       "      <th>68</th>\n",
       "      <td>25</td>\n",
       "      <td>50</td>\n",
       "      <td>40</td>\n",
       "      <td>Clayey</td>\n",
       "      <td>Pulses</td>\n",
       "      <td>6</td>\n",
       "      <td>19</td>\n",
       "      <td>16</td>\n",
       "    </tr>\n",
       "    <tr>\n",
       "      <th>15</th>\n",
       "      <td>31</td>\n",
       "      <td>62</td>\n",
       "      <td>49</td>\n",
       "      <td>Black</td>\n",
       "      <td>Sugarcane</td>\n",
       "      <td>10</td>\n",
       "      <td>13</td>\n",
       "      <td>14</td>\n",
       "    </tr>\n",
       "    <tr>\n",
       "      <th>39</th>\n",
       "      <td>29</td>\n",
       "      <td>58</td>\n",
       "      <td>34</td>\n",
       "      <td>Sandy</td>\n",
       "      <td>Millets</td>\n",
       "      <td>15</td>\n",
       "      <td>0</td>\n",
       "      <td>37</td>\n",
       "    </tr>\n",
       "    <tr>\n",
       "      <th>...</th>\n",
       "      <td>...</td>\n",
       "      <td>...</td>\n",
       "      <td>...</td>\n",
       "      <td>...</td>\n",
       "      <td>...</td>\n",
       "      <td>...</td>\n",
       "      <td>...</td>\n",
       "      <td>...</td>\n",
       "    </tr>\n",
       "    <tr>\n",
       "      <th>60</th>\n",
       "      <td>28</td>\n",
       "      <td>54</td>\n",
       "      <td>41</td>\n",
       "      <td>Clayey</td>\n",
       "      <td>Paddy</td>\n",
       "      <td>36</td>\n",
       "      <td>0</td>\n",
       "      <td>0</td>\n",
       "    </tr>\n",
       "    <tr>\n",
       "      <th>71</th>\n",
       "      <td>31</td>\n",
       "      <td>62</td>\n",
       "      <td>32</td>\n",
       "      <td>Red</td>\n",
       "      <td>Tobacco</td>\n",
       "      <td>39</td>\n",
       "      <td>0</td>\n",
       "      <td>0</td>\n",
       "    </tr>\n",
       "    <tr>\n",
       "      <th>14</th>\n",
       "      <td>26</td>\n",
       "      <td>52</td>\n",
       "      <td>31</td>\n",
       "      <td>Red</td>\n",
       "      <td>Ground Nuts</td>\n",
       "      <td>14</td>\n",
       "      <td>0</td>\n",
       "      <td>41</td>\n",
       "    </tr>\n",
       "    <tr>\n",
       "      <th>92</th>\n",
       "      <td>36</td>\n",
       "      <td>68</td>\n",
       "      <td>41</td>\n",
       "      <td>Red</td>\n",
       "      <td>Ground Nuts</td>\n",
       "      <td>41</td>\n",
       "      <td>0</td>\n",
       "      <td>0</td>\n",
       "    </tr>\n",
       "    <tr>\n",
       "      <th>51</th>\n",
       "      <td>36</td>\n",
       "      <td>68</td>\n",
       "      <td>33</td>\n",
       "      <td>Black</td>\n",
       "      <td>Oil seeds</td>\n",
       "      <td>13</td>\n",
       "      <td>0</td>\n",
       "      <td>14</td>\n",
       "    </tr>\n",
       "  </tbody>\n",
       "</table>\n",
       "<p>79 rows × 8 columns</p>\n",
       "</div>"
      ],
      "text/plain": [
       "    Temparature  Humidity   Moisture Soil Type    Crop Type  Nitrogen  \\\n",
       "49           33         64        51     Sandy        Maize         5   \n",
       "70           26         52        39    Clayey       Pulses        21   \n",
       "68           25         50        40    Clayey       Pulses         6   \n",
       "15           31         62        49     Black    Sugarcane        10   \n",
       "39           29         58        34     Sandy      Millets        15   \n",
       "..          ...        ...       ...       ...          ...       ...   \n",
       "60           28         54        41    Clayey        Paddy        36   \n",
       "71           31         62        32       Red      Tobacco        39   \n",
       "14           26         52        31       Red  Ground Nuts        14   \n",
       "92           36         68        41       Red  Ground Nuts        41   \n",
       "51           36         68        33     Black    Oil seeds        13   \n",
       "\n",
       "    Potassium  Phosphorous  \n",
       "49          9           29  \n",
       "70          0           23  \n",
       "68         19           16  \n",
       "15         13           14  \n",
       "39          0           37  \n",
       "..        ...          ...  \n",
       "60          0            0  \n",
       "71          0            0  \n",
       "14          0           41  \n",
       "92          0            0  \n",
       "51          0           14  \n",
       "\n",
       "[79 rows x 8 columns]"
      ]
     },
     "execution_count": 23,
     "metadata": {},
     "output_type": "execute_result"
    }
   ],
   "source": [
    "x_train"
   ]
  },
  {
   "cell_type": "code",
   "execution_count": 24,
   "id": "4d8286f8-fe71-4175-b587-1f4e375f98ca",
   "metadata": {},
   "outputs": [],
   "source": [
    "from sklearn.preprocessing import LabelEncoder,StandardScaler\n",
    "\n",
    "# Assuming 'x_train' is a DataFrame and you need to encode all categorical columns\n",
    "label_encoder = LabelEncoder()\n",
    "\n",
    "# Apply label encoding to all categorical columns\n",
    "for column in x_train.select_dtypes(include=['object']).columns:\n",
    "    x_train[column] = label_encoder.fit_transform(x_train[column])\n",
    "    x_test[column] = label_encoder.transform(x_test[column])\n",
    "sc=StandardScaler()\n",
    "# Now apply standardization\n",
    "sc.fit(x_train)\n",
    "x_train = sc.transform(x_train)\n",
    "x_test = sc.transform(x_test)\n"
   ]
  },
  {
   "cell_type": "code",
   "execution_count": 25,
   "id": "8a51f138-769f-40b5-943a-2ad2c1a1edae",
   "metadata": {},
   "outputs": [
    {
     "data": {
      "text/plain": [
       "array([[ 0.76462082,  0.80219471,  0.71373089,  1.45583886, -0.73178566,\n",
       "        -1.15292671,  0.91259936,  0.80677787],\n",
       "       [-1.22988538, -1.23117583, -0.39185226, -0.7141851 ,  0.56733945,\n",
       "         0.24967133, -0.63230099,  0.3465941 ],\n",
       "       [-1.51481484, -1.57007092, -0.29972033, -0.7141851 ,  0.56733945,\n",
       "        -1.06526433,  2.62915531, -0.19028696],\n",
       "       [ 0.19476191,  0.46329962,  0.52946704, -1.43752643,  0.89212073,\n",
       "        -0.71461482,  1.59922174, -0.34368155],\n",
       "       [-0.37509701, -0.21449056, -0.8525119 ,  1.45583886, -0.40700439,\n",
       "        -0.27630294, -0.63230099,  1.42035622],\n",
       "       [ 1.6194092 ,  1.47998489, -0.48398419,  1.45583886, -1.7061295 ,\n",
       "        -0.97760196,  0.91259936,  0.88347516],\n",
       "       [-0.37509701, -0.21449056, -0.94464383, -1.43752643, -0.08222311,\n",
       "        -0.8022772 ,  0.56928817,  0.88347516],\n",
       "       [-0.09016755,  0.12440453, -0.29972033,  1.45583886, -0.40700439,\n",
       "         2.00291888, -0.63230099, -1.41744366],\n",
       "       [ 0.19476191,  0.46329962,  0.43733511,  1.45583886, -0.73178566,\n",
       "        -0.36396531,  1.94253293, -0.49707613],\n",
       "       [ 1.6194092 ,  1.47998489,  1.72718212,  0.73249754, -1.38134822,\n",
       "        -0.27630294, -0.63230099,  1.6504481 ],\n",
       "       [-1.51481484, -1.57007092, -1.03677576, -0.7141851 ,  0.56733945,\n",
       "         0.51265846, -0.63230099,  0.03980492],\n",
       "       [-0.37509701, -0.21449056, -0.29972033,  0.73249754, -1.05656694,\n",
       "         0.51265846, -0.63230099,  0.3465941 ],\n",
       "       [ 1.90433865,  1.81887997, -1.03677576, -1.43752643, -0.08222311,\n",
       "        -0.53929007, -0.63230099,  1.57375081],\n",
       "       [-0.37509701, -0.21449056,  1.63505019,  0.00915622, -1.38134822,\n",
       "        -0.62695245, -0.63230099,  1.49705351],\n",
       "       [-1.22988538, -1.23117583, -0.76037997,  1.45583886, -1.7061295 ,\n",
       "        -0.53929007,  1.08425496, -0.42037884],\n",
       "       [ 2.18926811,  1.81887997,  0.43733511,  0.00915622,  1.54168328,\n",
       "        -0.88993958,  0.74094377,  0.73008057],\n",
       "       [-0.09016755,  0.12440453, -0.48398419,  1.45583886, -0.40700439,\n",
       "        -0.71461482, -0.63230099, -0.34368155],\n",
       "       [-0.66002647, -0.89228074, -0.76037997, -1.43752643, -0.40700439,\n",
       "         2.00291888, -0.63230099, -1.41744366],\n",
       "       [ 0.76462082,  0.80219471, -0.8525119 , -0.7141851 ,  0.56733945,\n",
       "         1.73993175, -0.63230099, -1.41744366],\n",
       "       [ 1.04955028,  0.97164225,  0.43733511,  0.00915622,  1.54168328,\n",
       "         0.42499608, -0.63230099,  0.03980492],\n",
       "       [-1.22988538, -1.23117583,  0.43733511,  0.00915622,  1.54168328,\n",
       "         0.42499608, -0.63230099,  0.03980492],\n",
       "       [ 0.76462082,  0.80219471,  0.62159897,  0.00915622,  1.54168328,\n",
       "         2.00291888, -0.63230099, -1.41744366],\n",
       "       [-0.94495592, -1.06172829, -0.02332454, -1.43752643, -0.40700439,\n",
       "         0.42499608, -0.63230099,  0.4232914 ],\n",
       "       [ 0.47969137,  0.46329962, -1.22103962,  0.00915622,  0.89212073,\n",
       "         1.73993175, -0.63230099, -1.41744366],\n",
       "       [-0.37509701, -0.21449056,  0.80586282,  0.00915622,  1.54168328,\n",
       "        -0.45162769, -0.63230099,  1.34365892],\n",
       "       [-0.66002647, -0.89228074, -0.02332454, -0.7141851 ,  0.24255817,\n",
       "        -0.71461482,  0.74094377,  0.80677787],\n",
       "       [-1.22988538, -1.23117583,  0.06880739,  1.45583886, -0.73178566,\n",
       "         0.42499608, -0.63230099,  0.11650222],\n",
       "       [-0.09016755,  0.12440453,  0.34520318,  1.45583886, -1.7061295 ,\n",
       "        -0.53929007, -0.63230099,  1.80384269],\n",
       "       [ 0.47969137,  0.46329962, -0.2075884 , -0.7141851 ,  0.24255817,\n",
       "         0.51265846, -0.63230099,  0.26989681],\n",
       "       [ 0.76462082,  0.80219471, -0.39185226, -0.7141851 ,  0.24255817,\n",
       "        -0.45162769, -0.63230099, -0.65047072],\n",
       "       [ 0.47969137,  0.46329962, -0.8525119 ,  0.73249754,  1.216902  ,\n",
       "         0.33733371, -0.63230099,  0.11650222],\n",
       "       [-1.51481484, -1.57007092, -0.39185226,  1.45583886, -1.7061295 ,\n",
       "         0.24967133, -0.63230099,  0.03980492],\n",
       "       [-1.51481484, -1.57007092, -1.58956734,  0.73249754, -1.05656694,\n",
       "        -0.27630294,  1.77087733, -0.57377343],\n",
       "       [-0.09016755,  0.12440453, -0.11545647,  1.45583886, -0.40700439,\n",
       "         0.24967133, -0.63230099, -0.03689237],\n",
       "       [-0.94495592, -1.06172829,  1.45078633,  0.00915622,  0.89212073,\n",
       "        -0.71461482, -0.63230099, -0.26698425],\n",
       "       [-1.51481484, -1.57007092,  1.91144598,  0.73249754, -1.38134822,\n",
       "        -0.8022772 , -0.63230099, -0.65047072],\n",
       "       [ 1.04955028,  0.97164225,  1.81931405,  0.73249754, -1.38134822,\n",
       "        -0.36396531, -0.63230099,  1.49705351],\n",
       "       [-0.09016755,  0.12440453,  1.63505019,  0.00915622, -1.38134822,\n",
       "        -0.88993958,  1.08425496,  0.96017245],\n",
       "       [ 1.04955028,  0.97164225,  0.16093932, -0.7141851 ,  0.24255817,\n",
       "        -1.06526433,  2.62915531,  0.19319951],\n",
       "       [ 1.04955028,  0.97164225,  0.99012668,  0.00915622,  1.54168328,\n",
       "         1.73993175, -0.63230099, -1.41744366],\n",
       "       [-0.37509701, -0.21449056,  1.26652247, -1.43752643,  0.89212073,\n",
       "        -0.53929007, -0.63230099, -0.65047072],\n",
       "       [ 0.19476191,  0.46329962,  1.81931405,  0.73249754, -1.38134822,\n",
       "        -0.62695245,  1.42756615, -0.26698425],\n",
       "       [ 1.04955028,  0.97164225,  1.54291826, -1.43752643,  0.89212073,\n",
       "         1.47694461, -0.63230099, -1.41744366],\n",
       "       [ 1.04955028,  0.97164225, -1.12890769,  0.73249754,  1.216902  ,\n",
       "         0.42499608, -0.63230099,  0.19319951],\n",
       "       [ 1.04955028,  0.97164225,  1.26652247, -1.43752643,  0.89212073,\n",
       "        -0.8022772 , -0.63230099, -0.42037884],\n",
       "       [-1.22988538, -1.23117583, -1.03677576, -1.43752643, -0.08222311,\n",
       "        -0.53929007, -0.63230099, -0.80386531],\n",
       "       [-0.37509701, -0.21449056,  1.08225861,  0.00915622,  0.89212073,\n",
       "        -0.88993958,  0.74094377,  1.11356704],\n",
       "       [-0.09016755,  0.12440453,  0.52946704,  0.00915622,  1.54168328,\n",
       "        -0.45162769, -0.63230099, -0.72716802],\n",
       "       [ 2.18926811,  2.15777506,  0.71373089,  0.00915622,  1.54168328,\n",
       "         1.82759412, -0.63230099, -1.41744366],\n",
       "       [-1.22988538, -1.23117583, -0.66824804, -0.7141851 ,  0.56733945,\n",
       "        -0.97760196,  2.11418852,  0.11650222],\n",
       "       [-0.09016755,  0.12440453,  1.3586544 ,  0.00915622,  0.89212073,\n",
       "        -0.71461482,  0.56928817,  1.03686975],\n",
       "       [-1.51481484, -1.57007092,  1.17439054,  0.00915622,  0.89212073,\n",
       "        -0.62695245,  1.59922174, -0.26698425],\n",
       "       [-0.09016755,  0.12440453, -1.31317155,  0.73249754, -1.05656694,\n",
       "         2.00291888, -0.63230099, -1.41744366],\n",
       "       [ 1.33447974,  1.31053734, -1.40530348, -0.7141851 ,  0.56733945,\n",
       "        -0.88993958,  0.56928817,  0.96017245],\n",
       "       [-0.37509701, -0.21449056, -0.57611611,  1.45583886, -0.40700439,\n",
       "        -0.88993958, -0.63230099, -0.26698425],\n",
       "       [-0.37509701, -0.21449056, -0.11545647, -0.7141851 ,  0.24255817,\n",
       "        -0.8022772 ,  1.08425496,  0.26989681],\n",
       "       [ 1.04955028,  0.97164225, -0.48398419, -0.7141851 ,  0.24255817,\n",
       "         1.82759412, -0.63230099, -1.41744366],\n",
       "       [-0.66002647, -0.89228074, -1.68169927,  1.45583886, -0.73178566,\n",
       "        -0.8022772 ,  1.08425496,  0.88347516],\n",
       "       [ 0.47969137,  0.46329962, -0.8525119 ,  0.73249754, -1.05656694,\n",
       "        -0.27630294, -0.63230099,  1.42035622],\n",
       "       [-0.66002647, -0.89228074,  0.34520318,  1.45583886, -1.7061295 ,\n",
       "        -1.15292671,  2.45749971, -0.26698425],\n",
       "       [-1.22988538, -1.23117583,  1.45078633,  0.00915622,  0.89212073,\n",
       "        -0.62695245, -0.63230099, -0.72716802],\n",
       "       [ 1.90433865,  1.81887997, -0.57611611, -0.7141851 ,  0.24255817,\n",
       "        -0.53929007, -0.63230099,  1.72714539],\n",
       "       [-1.22988538, -1.23117583, -0.66824804, -0.7141851 ,  0.56733945,\n",
       "        -0.36396531, -0.63230099, -0.42037884],\n",
       "       [-0.37509701, -1.23117583,  0.16093932,  0.00915622,  0.89212073,\n",
       "        -0.53929007, -0.63230099,  1.34365892],\n",
       "       [-0.66002647, -0.89228074, -0.48398419, -0.7141851 ,  0.56733945,\n",
       "         1.9152565 , -0.63230099, -1.41744366],\n",
       "       [ 1.04955028,  0.97164225,  0.89799475,  0.00915622,  0.89212073,\n",
       "        -0.53929007,  1.77087733, -0.49707613],\n",
       "       [ 1.04955028,  0.97164225,  1.72718212, -1.43752643, -1.38134822,\n",
       "        -0.97760196,  0.91259936,  0.88347516],\n",
       "       [-0.66002647, -0.89228074, -0.57611611, -1.43752643, -0.40700439,\n",
       "         1.56460699, -0.63230099, -1.41744366],\n",
       "       [-0.94495592, -1.06172829, -1.22103962, -1.43752643, -0.40700439,\n",
       "         1.47694461, -0.63230099, -1.41744366],\n",
       "       [-0.09016755,  0.12440453, -1.58956734, -1.43752643, -0.08222311,\n",
       "        -0.88993958,  0.91259936,  0.88347516],\n",
       "       [ 0.76462082,  0.80219471, -1.12890769,  0.73249754, -1.05656694,\n",
       "        -0.45162769, -0.63230099,  1.57375081],\n",
       "       [-0.37509701, -0.21449056, -1.22103962,  0.73249754,  1.216902  ,\n",
       "        -0.45162769,  2.28584412, -0.19028696],\n",
       "       [-0.37509701, -0.21449056,  2.0035779 , -1.43752643, -1.38134822,\n",
       "        -0.36396531, -0.63230099,  1.26696163],\n",
       "       [-0.09016755,  0.12440453,  0.06880739,  1.45583886, -0.40700439,\n",
       "        -0.71461482, -0.63230099, -0.72716802],\n",
       "       [-0.66002647, -0.89228074, -0.2075884 , -0.7141851 ,  0.24255817,\n",
       "         1.56460699, -0.63230099, -1.41744366],\n",
       "       [ 0.19476191,  0.46329962, -1.03677576,  0.73249754,  1.216902  ,\n",
       "         1.82759412, -0.63230099, -1.41744366],\n",
       "       [-1.22988538, -1.23117583, -1.12890769,  0.73249754, -1.05656694,\n",
       "        -0.36396531, -0.63230099,  1.72714539],\n",
       "       [ 1.6194092 ,  1.47998489, -0.2075884 ,  0.73249754, -1.05656694,\n",
       "         2.00291888, -0.63230099, -1.41744366],\n",
       "       [ 1.6194092 ,  1.47998489, -0.94464383, -1.43752643, -0.08222311,\n",
       "        -0.45162769, -0.63230099, -0.34368155]])"
      ]
     },
     "execution_count": 25,
     "metadata": {},
     "output_type": "execute_result"
    }
   ],
   "source": [
    "x_train"
   ]
  },
  {
   "cell_type": "code",
   "execution_count": 26,
   "id": "90e42bef-73ca-438b-9111-fed311b36d84",
   "metadata": {},
   "outputs": [
    {
     "name": "stdout",
     "output_type": "stream",
     "text": [
      "Logistic Regression with accuracy : 0.9\n",
      "Naive Bayes with accuracy : 1.0\n",
      "Support Vector Machine with accuracy : 0.8\n",
      "K-Nearest Neighbors with accuracy : 0.6\n",
      "Decision Tree with accuracy : 1.0\n",
      "Random Forest with accuracy : 0.95\n",
      "Bagging with accuracy : 1.0\n"
     ]
    },
    {
     "name": "stderr",
     "output_type": "stream",
     "text": [
      "C:\\Users\\RAJ MOHNANI\\AppData\\Local\\Programs\\Python\\Python312\\Lib\\site-packages\\sklearn\\ensemble\\_weight_boosting.py:519: FutureWarning: The SAMME.R algorithm (the default) is deprecated and will be removed in 1.6. Use the SAMME algorithm to circumvent this warning.\n",
      "  warnings.warn(\n"
     ]
    },
    {
     "name": "stdout",
     "output_type": "stream",
     "text": [
      "AdaBoost with accuracy : 0.7\n",
      "Gradient Boosting with accuracy : 0.95\n",
      "Extra Trees with accuracy : 0.7\n"
     ]
    }
   ],
   "source": [
    "#Training Models\n",
    "\n",
    "from sklearn.linear_model import LogisticRegression\n",
    "from sklearn.naive_bayes import GaussianNB\n",
    "from sklearn.svm import SVC\n",
    "from sklearn.neighbors import KNeighborsClassifier\n",
    "from sklearn.tree import DecisionTreeClassifier\n",
    "from sklearn.tree import ExtraTreeClassifier\n",
    "from sklearn.ensemble import RandomForestClassifier\n",
    "from sklearn.ensemble import BaggingClassifier\n",
    "from sklearn.ensemble import GradientBoostingClassifier\n",
    "from sklearn.ensemble import AdaBoostClassifier\n",
    "from sklearn.metrics import accuracy_score\n",
    "models={\n",
    "    'Logistic Regression':LogisticRegression(),\n",
    "    'Naive Bayes':GaussianNB(),\n",
    "    'Support Vector Machine':SVC(),\n",
    "    'K-Nearest Neighbors':KNeighborsClassifier(),\n",
    "    'Decision Tree':DecisionTreeClassifier(),\n",
    "    'Random Forest':RandomForestClassifier(),\n",
    "    'Bagging':BaggingClassifier(),\n",
    "    'AdaBoost':AdaBoostClassifier(),\n",
    "    'Gradient Boosting':GradientBoostingClassifier(),\n",
    "    'Extra Trees':ExtraTreeClassifier(),  \n",
    "}\n",
    "\n",
    "for name, md in models.items():\n",
    "    md.fit(x_train,y_train)\n",
    "    ypred=md.predict(x_test)\n",
    "\n",
    "    print(f\"{name} with accuracy : {accuracy_score(y_test,ypred)}\")"
   ]
  },
  {
   "cell_type": "code",
   "execution_count": 27,
   "id": "c77536e1-13c8-49cd-8681-888eb4b68d84",
   "metadata": {},
   "outputs": [
    {
     "data": {
      "text/plain": [
       "1.0"
      ]
     },
     "execution_count": 27,
     "metadata": {},
     "output_type": "execute_result"
    }
   ],
   "source": [
    "rfc=RandomForestClassifier()\n",
    "rfc.fit(x_train,y_train)\n",
    "ypred=rfc.predict(x_test)\n",
    "accuracy_score(y_test,ypred)"
   ]
  },
  {
   "cell_type": "code",
   "execution_count": 28,
   "id": "f4acf4cd-3184-4216-9249-940c66746462",
   "metadata": {},
   "outputs": [],
   "source": [
    "#predictive system \n",
    "\n",
    "def recommendation(Temparature,\tHumidity,\tMoisture,\tSoil_Type,\tCrop_Type,\tNitrogen,\tPotassium,\tPhosphorous):\n",
    "    features = np.array([[Temparature,\tHumidity,\tMoisture,\tSoil_Type,\tCrop_Type,\tNitrogen,\tPotassium,\tPhosphorous]])\n",
    "    prediction = rfc.predict(features).reshape(1,-1)\n",
    "\n",
    "    return prediciton[0]"
   ]
  },
  {
   "cell_type": "code",
   "execution_count": 29,
   "id": "975064dc-6d0a-4a8f-a7fa-d21458f4bbf2",
   "metadata": {},
   "outputs": [
    {
     "name": "stdout",
     "output_type": "stream",
     "text": [
      "20-20 is the best fertilizer that is suitable\n"
     ]
    }
   ],
   "source": [
    "from sklearn.preprocessing import LabelEncoder\n",
    "from sklearn.ensemble import RandomForestClassifier\n",
    "import numpy as np\n",
    "\n",
    "# Define all possible values for encoding\n",
    "Soil_Type_labels = ['Loamy', 'Sandy', 'Clayey', 'Black', 'Red']\n",
    "Crop_Type_labels = ['Sugarcane', 'Cotton', 'Millets', 'Paddy', 'Pulses', 'Wheat', 'Tobacco', 'Barley', 'Oil seeds', 'Ground Nuts', 'Maize']\n",
    "\n",
    "# Initialize LabelEncoders and fit them\n",
    "label_encoder_soil = LabelEncoder().fit(Soil_Type_labels)\n",
    "label_encoder_crop = LabelEncoder().fit(Crop_Type_labels)\n",
    "\n",
    "# Sample training data\n",
    "# Format: [Soil_Type, Nitrogen, Phosphorus, Potassium, Temperature, Crop_Type]\n",
    "# Encode categorical features\n",
    "X_train = np.array([\n",
    "    [label_encoder_soil.transform(['Loamy'])[0], 20, 30, 40, 50, label_encoder_crop.transform(['Sugarcane'])[0]],\n",
    "    [label_encoder_soil.transform(['Sandy'])[0], 15, 25, 35, 45, label_encoder_crop.transform(['Cotton'])[0]],\n",
    "    [label_encoder_soil.transform(['Clayey'])[0], 30, 40, 50, 60, label_encoder_crop.transform(['Paddy'])[0]],\n",
    "    [label_encoder_soil.transform(['Black'])[0], 10, 20, 30, 40, label_encoder_crop.transform(['Millets'])[0]],\n",
    "    [label_encoder_soil.transform(['Red'])[0], 25, 35, 45, 55, label_encoder_crop.transform(['Wheat'])[0]],\n",
    "    # Add more training samples as needed\n",
    "])\n",
    "\n",
    "# Target labels (e.g., fertilizer types) for training data\n",
    "y_train = np.array([1, 2, 3, 4, 5])  # Example target values; should correspond to actual labels\n",
    "\n",
    "# Initialize and train the model\n",
    "rfc = RandomForestClassifier()\n",
    "rfc.fit(X_train, y_train)\n",
    "\n",
    "# Define the recommendation function\n",
    "def recommendation(soil_color, nitrogen, phosphorus, potassium, temperature, crop):\n",
    "    try:\n",
    "        # Encode the inputs\n",
    "        soil_color_encoded = label_encoder_soil.transform([soil_color])[0]\n",
    "        crop_encoded = label_encoder_crop.transform([crop])[0]\n",
    "    except ValueError as e:\n",
    "        # Handle the case where a label is not present in the encoder\n",
    "        print(f\"Error encoding inputs: {e}\")\n",
    "        return None\n",
    "    \n",
    "    # Create feature array with encoded values\n",
    "    features = np.array([[soil_color_encoded, nitrogen, phosphorus, potassium, temperature, crop_encoded]])\n",
    "    \n",
    "    # Make a prediction using the trained model\n",
    "    prediction = rfc.predict(features)\n",
    "    \n",
    "    return prediction\n",
    "\n",
    "# Example usage\n",
    "Temparature = 29\n",
    "Humidity = 56\n",
    "Moisture = 45\n",
    "Soil_Type = 'Red'\n",
    "Crop_Type = 'Sugarcane'\n",
    "Nitrogen = 16\n",
    "Potassium = 200\n",
    "Phosphorous = 36\n",
    "\n",
    "# Get the prediction\n",
    "predict = recommendation(Soil_Type, Nitrogen, Phosphorous, Potassium, Temparature, Crop_Type)\n",
    "\n",
    "# Map the prediction to the corresponding fertilizer\n",
    "fertilizer_dict = {1: \"Urea\", 2: \"DAP\", 3: \"28-28\", 4: \"14-35-14\", 5: \"20-20\", 6: \"17-17-17\", 7: \"10-26-26\"}\n",
    "\n",
    "if predict is not None and predict[0] in fertilizer_dict:\n",
    "    fertilizer = fertilizer_dict[predict[0]]\n",
    "    print(\"{} is the best fertilizer that is suitable\".format(fertilizer))\n",
    "else:\n",
    "    print(\"Sorry, we are not able to recommend a proper fertilizer for this environment.\")\n"
   ]
  },
  {
   "cell_type": "code",
   "execution_count": 30,
   "id": "3d5fa43e-aec2-48f6-b066-de96e250bd14",
   "metadata": {},
   "outputs": [],
   "source": [
    "import pickle\n",
    "pickle.dump(rfc,open('model.pkl','wb'))\n"
   ]
  },
  {
   "cell_type": "code",
   "execution_count": null,
   "id": "449568ed-ae22-43bf-b037-d7fcb9ae24a0",
   "metadata": {},
   "outputs": [],
   "source": []
  }
 ],
 "metadata": {
  "kernelspec": {
   "display_name": "Python 3 (ipykernel)",
   "language": "python",
   "name": "python3"
  },
  "language_info": {
   "codemirror_mode": {
    "name": "ipython",
    "version": 3
   },
   "file_extension": ".py",
   "mimetype": "text/x-python",
   "name": "python",
   "nbconvert_exporter": "python",
   "pygments_lexer": "ipython3",
   "version": "3.12.1"
  }
 },
 "nbformat": 4,
 "nbformat_minor": 5
}
